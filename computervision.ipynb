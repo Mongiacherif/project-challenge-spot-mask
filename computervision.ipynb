{
  "nbformat": 4,
  "nbformat_minor": 0,
  "metadata": {
    "colab": {
      "name": "computervision.ipynb",
      "provenance": [],
      "collapsed_sections": [],
      "toc_visible": true,
      "authorship_tag": "ABX9TyPY5UQwMzRFbm6ppfhnrKPv",
      "include_colab_link": true
    },
    "kernelspec": {
      "name": "python3",
      "display_name": "Python 3"
    },
    "accelerator": "GPU"
  },
  "cells": [
    {
      "cell_type": "markdown",
      "metadata": {
        "id": "view-in-github",
        "colab_type": "text"
      },
      "source": [
        "<a href=\"https://colab.research.google.com/github/samarcherif/project-challenge-spot-mask/blob/master/computervision.ipynb\" target=\"_parent\"><img src=\"https://colab.research.google.com/assets/colab-badge.svg\" alt=\"Open In Colab\"/></a>"
      ]
    },
    {
      "cell_type": "markdown",
      "metadata": {
        "id": "JsZqV8YT6w1e",
        "colab_type": "text"
      },
      "source": [
        "#Elaborated by Cherif Mongia\n"
      ]
    },
    {
      "cell_type": "markdown",
      "metadata": {
        "id": "J7ZxX3lE9IYw",
        "colab_type": "text"
      },
      "source": [
        "# project challenge spot mask\n",
        "\n",
        "Face masks have become a common public sight in the last few months. The Centers for Disease Control (CDC) recently advised the use of simple cloth face coverings to slow the spread of the virus and help people who may have the virus and do not know it from transmitting it to others. Wearing masks is broadly recognised as critical to reducing community transmission and limiting touching of the face.\n",
        "\n",
        "In a time of concerns about slowing the transmission of COVID-19, increased surveillance combined with AI solutions can improve monitoring and reduce the human effort needed to limit the spread of this disease. The objective of this challenge is to create an image classification machine learning model to accurately predict the likelihood that an image contains a person wearing a face mask, or not. The total dataset contains 1,800+ images of people either wearing masks or not.\n",
        "\n",
        "Our machine learning solution will help policymakers, law enforcement, hospitals, and even commercial businesses ensure that masks are being worn appropriately in public. These solutions can help in the battle to reduce community transmission of COVID-19."
      ]
    },
    {
      "cell_type": "markdown",
      "metadata": {
        "id": "cUIIAFO49Nca",
        "colab_type": "text"
      },
      "source": [
        "## Import librairies "
      ]
    },
    {
      "cell_type": "code",
      "metadata": {
        "id": "3ki-YGaj888a",
        "colab_type": "code",
        "colab": {
          "base_uri": "https://localhost:8080/",
          "height": 125
        },
        "outputId": "7cc646ec-b566-456f-9b7d-e7795763f623"
      },
      "source": [
        "%tensorflow_version 2.x #to avoid loading another version at run time (since you can't change it after it's imported)\n",
        "import tensorflow as tf\n",
        "import os\n",
        "import cv2\n",
        "import pandas as pd \n",
        "import numpy as np\n",
        "from sklearn.model_selection import train_test_split\n",
        "import matplotlib.pyplot as plt\n",
        "from tensorflow.python.keras import layers \n",
        "from tensorflow.python.keras import models\n",
        "from keras import optimizers\n",
        "from tensorflow.python.keras.preprocessing.image import ImageDataGenerator\n",
        "from tensorflow.python.keras.preprocessing.image import img_to_array, load_img\n"
      ],
      "execution_count": null,
      "outputs": [
        {
          "output_type": "stream",
          "text": [
            "`%tensorflow_version` only switches the major version: 1.x or 2.x.\n",
            "You set: `2.x #to avoid loading another version at run time (since you can't change it after it's imported)`. This will be interpreted as: `2.x`.\n",
            "\n",
            "\n",
            "TensorFlow is already loaded. Please restart the runtime to change versions.\n"
          ],
          "name": "stdout"
        }
      ]
    },
    {
      "cell_type": "markdown",
      "metadata": {
        "id": "xmBlhPWP_pqQ",
        "colab_type": "text"
      },
      "source": [
        "## Functions \n"
      ]
    },
    {
      "cell_type": "code",
      "metadata": {
        "id": "F_B1yUUY9Mdd",
        "colab_type": "code",
        "colab": {}
      },
      "source": [
        "###Functions\n",
        "\n",
        "def normalize(train_images_, test_images_):\n",
        "\t# convert from integers to floats\n",
        "\ttrain_norm = train_images_.astype('float32')\n",
        "\ttest_norm = test_images_.astype('float32')\n",
        "\t# normalize to range 0-1\n",
        "\ttrain_norm = train_norm / 255.0\n",
        "\ttest_norm = test_norm / 255.0\n",
        "\t# return normalized images\n",
        "\treturn train_norm, test_norm\n",
        "\n",
        "def resize_images(images):\n",
        "  \"\"\" Returns an Array of resized images \"\"\"\n",
        "\n",
        "  train = []\n",
        "  j=0\n",
        "  for image in images:\n",
        "    # train_X.append(cv2.resize(cv2.cvtColor(cv2.imread('drive/My Drive/Dauphine_Projet_Image2020/images/'+label), cv2.COLOR_BGR2RGB), (NROWS,NCOLS),interpolation=cv2.INTER_CUBIC))\n",
        "    image = tf.image.resize(cv2.imread('drive/My Drive/Dauphine_Projet_Image2020/images/'+image), sizes=(256,256))\n",
        "    train_X.append(image)\n",
        "    j+=1\n",
        "    print(j/len(images))\n",
        "  \n",
        "  return train\n",
        "\n",
        "def accuracy_lost_curves(history):\n",
        "  # plot loss\n",
        "  fig = plt.figure(figsize=(8,8))\n",
        "  ax1 = fig.add_subplot(2,1,1)\n",
        "  ax1.plot(history.history['loss'], color='blue', label='train')\n",
        "  ax1.plot(history.history['val_loss'], color='orange', label='test')\n",
        "  ax1.set_title('Cross Entropy Loss')\n",
        "  ax1.legend(['Training Loss', 'Validation Loss'])\n",
        "\t# plot accuracy\n",
        "  ax2 = fig.add_subplot(2,1,2)\n",
        "  ax2.plot(history.history['accuracy'], color='blue', label='train')\n",
        "  ax2.plot(history.history['val_accuracy'], color='orange', label='test')\n",
        "  ax2.set_title('Classification Accuracy')\n",
        "  ax2.legend(['Training Acc', 'Validation Acc'])  "
      ],
      "execution_count": null,
      "outputs": []
    },
    {
      "cell_type": "markdown",
      "metadata": {
        "id": "zBg98OPx_wu2",
        "colab_type": "text"
      },
      "source": [
        "## Download Data\n",
        "\n",
        "We upload our data image.zip/ train labels/ sub"
      ]
    },
    {
      "cell_type": "code",
      "metadata": {
        "id": "Di_X9fMQ9Mk2",
        "colab_type": "code",
        "colab": {
          "base_uri": "https://localhost:8080/",
          "height": 125
        },
        "outputId": "5f53bbf6-8c08-4575-e7b2-c7f3146f582a"
      },
      "source": [
        "from google.colab import drive\n",
        "drive.mount('/content/drive')"
      ],
      "execution_count": null,
      "outputs": [
        {
          "output_type": "stream",
          "text": [
            "Go to this URL in a browser: https://accounts.google.com/o/oauth2/auth?client_id=947318989803-6bn6qk8qdgf4n4g3pfee6491hc0brc4i.apps.googleusercontent.com&redirect_uri=urn%3aietf%3awg%3aoauth%3a2.0%3aoob&response_type=code&scope=email%20https%3a%2f%2fwww.googleapis.com%2fauth%2fdocs.test%20https%3a%2f%2fwww.googleapis.com%2fauth%2fdrive%20https%3a%2f%2fwww.googleapis.com%2fauth%2fdrive.photos.readonly%20https%3a%2f%2fwww.googleapis.com%2fauth%2fpeopleapi.readonly\n",
            "\n",
            "Enter your authorization code:\n",
            "··········\n",
            "Mounted at /content/drive\n"
          ],
          "name": "stdout"
        }
      ]
    },
    {
      "cell_type": "code",
      "metadata": {
        "id": "Y7w8-pff9Mrt",
        "colab_type": "code",
        "colab": {
          "base_uri": "https://localhost:8080/",
          "height": 34
        },
        "outputId": "e378d131-b60e-4c68-eb93-24cf6effd90b"
      },
      "source": [
        "train_labels=pd.read_csv(\"/content/drive/My Drive/Dauphine_Projet_Image2020/train_labels.csv\")\n",
        "sample_sub=pd.read_csv(\"/content/drive/My Drive/Dauphine_Projet_Image2020/sample_sub_v2.csv\")\n",
        "train_labels.shape,sample_sub.shape\n"
      ],
      "execution_count": null,
      "outputs": [
        {
          "output_type": "execute_result",
          "data": {
            "text/plain": [
              "((1308, 2), (509, 2))"
            ]
          },
          "metadata": {
            "tags": []
          },
          "execution_count": 7
        }
      ]
    },
    {
      "cell_type": "markdown",
      "metadata": {
        "id": "5avTZekmBppJ",
        "colab_type": "text"
      },
      "source": [
        "## split our data to train and test "
      ]
    },
    {
      "cell_type": "code",
      "metadata": {
        "id": "aZBa1KH_wPi9",
        "colab_type": "code",
        "colab": {
          "base_uri": "https://localhost:8080/",
          "height": 34
        },
        "outputId": "afc788ca-b0da-4815-f5dc-b4ac60c31f03"
      },
      "source": [
        "images= os.listdir('/content/drive/My Drive/Dauphine_Projet_Image2020/images')\n",
        "len(images)"
      ],
      "execution_count": null,
      "outputs": [
        {
          "output_type": "execute_result",
          "data": {
            "text/plain": [
              "1817"
            ]
          },
          "metadata": {
            "tags": []
          },
          "execution_count": 8
        }
      ]
    },
    {
      "cell_type": "code",
      "metadata": {
        "id": "xDUD5Qcr9Mxt",
        "colab_type": "code",
        "colab": {
          "base_uri": "https://localhost:8080/",
          "height": 34
        },
        "outputId": "f53cdde8-a603-496b-b1a0-8b2c5460122b"
      },
      "source": [
        "images= os.listdir('/content/drive/My Drive/Dauphine_Projet_Image2020/images')\n",
        "train_labels_list = list(train_labels['image'])\n",
        "test_labels_list = [fn for fn in images if fn not in train_labels_list]\n",
        "len(images),len(train_labels_list),len(test_labels_list)"
      ],
      "execution_count": null,
      "outputs": [
        {
          "output_type": "execute_result",
          "data": {
            "text/plain": [
              "(1817, 1308, 509)"
            ]
          },
          "metadata": {
            "tags": []
          },
          "execution_count": 9
        }
      ]
    },
    {
      "cell_type": "markdown",
      "metadata": {
        "id": "V17hAauJV0IA",
        "colab_type": "text"
      },
      "source": [
        "##show a random image from the train_labels"
      ]
    },
    {
      "cell_type": "code",
      "metadata": {
        "id": "Fiw3c3VCV0bP",
        "colab_type": "code",
        "colab": {
          "base_uri": "https://localhost:8080/",
          "height": 286
        },
        "outputId": "fc66feb8-2e6f-4a44-c31b-0d963b50c671"
      },
      "source": [
        "import random\n",
        "sample=random.choice(train_labels['image']) #picking random sample from data list\n",
        "img=cv2.imread('drive/My Drive/Dauphine_Projet_Image2020/images/'+sample)\n",
        "plt.imshow(img)"
      ],
      "execution_count": null,
      "outputs": [
        {
          "output_type": "execute_result",
          "data": {
            "text/plain": [
              "<matplotlib.image.AxesImage at 0x7f69e6e9b160>"
            ]
          },
          "metadata": {
            "tags": []
          },
          "execution_count": 76
        },
        {
          "output_type": "display_data",
          "data": {
            "image/png": "[encoded data removed]",
            "text/plain": [
              "<Figure size 432x288 with 1 Axes>"
            ]
          },
          "metadata": {
            "tags": [],
            "needs_background": "light"
          }
        }
      ]
    },
    {
      "cell_type": "markdown",
      "metadata": {
        "id": "VJTtoR7DC-vC",
        "colab_type": "text"
      },
      "source": [
        "## Visualization data\n",
        "\n",
        "Here i create some visualization to see the partition of people who wear masks or not\n"
      ]
    },
    {
      "cell_type": "code",
      "metadata": {
        "id": "E53z9jyl9Mq6",
        "colab_type": "code",
        "colab": {
          "base_uri": "https://localhost:8080/",
          "height": 644
        },
        "outputId": "9a66e8b1-12f9-4f5a-e618-f8fbcf3c8e07"
      },
      "source": [
        "to_plot = train_labels['target']\n",
        "fig = plt.figure(figsize=(10,10))\n",
        "ax = fig.add_subplot()    \n",
        "ax.hist(to_plot)\n",
        "ax.grid(linestyle = '-.' , linewidth = 1 , color = '.5')\n",
        "ax.set_title(\"Data Distribution \" , fontsize = 20)\n",
        "ax.set_xlabel(\"Target\")\n",
        "ax.set_ylabel(\"Amount\")"
      ],
      "execution_count": null,
      "outputs": [
        {
          "output_type": "execute_result",
          "data": {
            "text/plain": [
              "Text(0, 0.5, 'Amount')"
            ]
          },
          "metadata": {
            "tags": []
          },
          "execution_count": 10
        },
        {
          "output_type": "display_data",
          "data": {
            "image/png": "[encoded data removed]",
            "text/plain": [
              "<Figure size 720x720 with 1 Axes>"
            ]
          },
          "metadata": {
            "tags": [],
            "needs_background": "light"
          }
        }
      ]
    },
    {
      "cell_type": "code",
      "metadata": {
        "id": "7BuTNOgY9Mj_",
        "colab_type": "code",
        "colab": {
          "base_uri": "https://localhost:8080/",
          "height": 613
        },
        "outputId": "2df5d1ed-12ef-44d4-88f9-20846cafaf16"
      },
      "source": [
        "import numpy as np\n",
        "fig = plt.figure(figsize =(10,10)) \n",
        "ax = fig.add_subplot()\n",
        "all_data = train_labels['target'].value_counts()\n",
        "sizes = (np.array((all_data / all_data.sum())*100))\n",
        "legend = [x  for x in all_data.index]\n",
        "labels = [ \"With mask\" , \"Without mask\"]\n",
        "ax.pie(all_data , labels=labels , autopct='%1.1f%%')\n",
        "ax.legend(labels) \n",
        "ax.set_title(\"Data Distribution \" , fontsize = 20)"
      ],
      "execution_count": null,
      "outputs": [
        {
          "output_type": "execute_result",
          "data": {
            "text/plain": [
              "Text(0.5, 1.0, 'Data Distribution ')"
            ]
          },
          "metadata": {
            "tags": []
          },
          "execution_count": 11
        },
        {
          "output_type": "display_data",
          "data": {
            "image/png": "[encoded data removed]",
            "text/plain": [
              "<Figure size 720x720 with 1 Axes>"
            ]
          },
          "metadata": {
            "tags": []
          }
        }
      ]
    },
    {
      "cell_type": "markdown",
      "metadata": {
        "id": "8QtbubNJDR81",
        "colab_type": "text"
      },
      "source": [
        "#### Result: \n",
        "we see that the number of people who wear masks almost close to people without masks"
      ]
    },
    {
      "cell_type": "markdown",
      "metadata": {
        "id": "WqGjudD43x3Y",
        "colab_type": "text"
      },
      "source": [
        "## Transform our image"
      ]
    },
    {
      "cell_type": "markdown",
      "metadata": {
        "id": "oApU1xAwwqZT",
        "colab_type": "text"
      },
      "source": [
        "The idea behind this transforamtion we need to get all the image same size so we do some transformation for the size."
      ]
    },
    {
      "cell_type": "code",
      "metadata": {
        "id": "nFNtFNKL3jGE",
        "colab_type": "code",
        "colab": {}
      },
      "source": [
        "X_train = resize_images(list(train_labels['image']))\n",
        "Y_train = list(train_labels['target'])"
      ],
      "execution_count": null,
      "outputs": []
    },
    {
      "cell_type": "code",
      "metadata": {
        "id": "5XklF2cv1zZF",
        "colab_type": "code",
        "colab": {
          "base_uri": "https://localhost:8080/",
          "height": 34
        },
        "outputId": "6890395d-98a1-42db-daf0-d5e0979f8556"
      },
      "source": [
        "len(X_train),len(Y_train)"
      ],
      "execution_count": null,
      "outputs": [
        {
          "output_type": "execute_result",
          "data": {
            "text/plain": [
              "(1308, 1308)"
            ]
          },
          "metadata": {
            "tags": []
          },
          "execution_count": 13
        }
      ]
    },
    {
      "cell_type": "code",
      "metadata": {
        "id": "S31tN0EAIPhk",
        "colab_type": "code",
        "colab": {
          "base_uri": "https://localhost:8080/",
          "height": 34
        },
        "outputId": "865a3346-9889-449d-a1fc-7be702b654db"
      },
      "source": [
        "resize=True\n",
        "if resize:\n",
        "  import time\n",
        "  start_time = time.time()\n",
        "  X_train = np.array([np.array(image) for image in X_train])\n",
        "  Y_train = np.array([np.array(image) for image in Y_train])\n",
        "  print(\"--- %s seconds ---\" % (time.time() - start_time))\n"
      ],
      "execution_count": null,
      "outputs": [
        {
          "output_type": "stream",
          "text": [
            "--- 4.5453901290893555 seconds ---\n"
          ],
          "name": "stdout"
        }
      ]
    },
    {
      "cell_type": "markdown",
      "metadata": {
        "id": "Hu8-HEHl9LXx",
        "colab_type": "text"
      },
      "source": [
        "## Split data to train and validation"
      ]
    },
    {
      "cell_type": "code",
      "metadata": {
        "id": "T-TX_0vdIwEY",
        "colab_type": "code",
        "colab": {}
      },
      "source": [
        "x_train,x_val,y_train,y_val = train_test_split(X_train,Y_train, test_size=0.2)\n"
      ],
      "execution_count": null,
      "outputs": []
    },
    {
      "cell_type": "markdown",
      "metadata": {
        "id": "E53bSc5Lz4l4",
        "colab_type": "text"
      },
      "source": [
        "## Encode and normalize the data"
      ]
    },
    {
      "cell_type": "markdown",
      "metadata": {
        "id": "qgUW69WwJBZd",
        "colab_type": "text"
      },
      "source": [
        "* Encode classes (from integers into one-hot vectors)\n",
        "\n",
        "* Normalize images (floats & values between [0-1])"
      ]
    },
    {
      "cell_type": "code",
      "metadata": {
        "id": "LQmKlSoaI1nZ",
        "colab_type": "code",
        "colab": {
          "base_uri": "https://localhost:8080/",
          "height": 34
        },
        "outputId": "cdc533e7-aa48-4d40-a73a-534027ee2b30"
      },
      "source": [
        "train_labels_encoded = tf.keras.utils.to_categorical(y_train)\n",
        "test_labels_encoded = tf.keras.utils.to_categorical(y_val)\n",
        "train_images, test_images = normalize(x_train, x_val)\n",
        "category_size=train_labels_encoded.shape[1]\n",
        "print('Phase 1/5: DataLoaded, Encoded And Normalized')\n",
        "input_shape=train_images[0].shape"
      ],
      "execution_count": null,
      "outputs": [
        {
          "output_type": "stream",
          "text": [
            "Phase 1/5: DataLoaded, Encoded And Normalized\n"
          ],
          "name": "stdout"
        }
      ]
    },
    {
      "cell_type": "code",
      "metadata": {
        "id": "ixpckF59JNkS",
        "colab_type": "code",
        "colab": {
          "base_uri": "https://localhost:8080/",
          "height": 34
        },
        "outputId": "9d93478c-2951-4724-e7ee-43f06c8d03d3"
      },
      "source": [
        "category_size #we have 2 category people who wear mask and without mask"
      ],
      "execution_count": null,
      "outputs": [
        {
          "output_type": "execute_result",
          "data": {
            "text/plain": [
              "2"
            ]
          },
          "metadata": {
            "tags": []
          },
          "execution_count": 17
        }
      ]
    },
    {
      "cell_type": "markdown",
      "metadata": {
        "id": "oRoMzlRHNuF9",
        "colab_type": "text"
      },
      "source": [
        "## First model: Baseline Model \n"
      ]
    },
    {
      "cell_type": "code",
      "metadata": {
        "id": "rd0tspQJNsg0",
        "colab_type": "code",
        "colab": {}
      },
      "source": [
        "#### Create a basic model made of a convolutional bloc (e.g., at least one convolutional layer followed by a maxpooling layer)\n",
        "def conv_block(filter_size_, kernel_size_, max_pooling_size_, activation_type_=None, input_shape_=None): \n",
        "  model_ = tf.keras.Sequential()\n",
        "  model_.add(tf.keras.layers.Conv2D(filters=filter_size_, kernel_size=kernel_size_, activation=activation_type_, input_shape=input_shape_, padding='same'))\n",
        "  model_.add(tf.keras.layers.Conv2D(filters=filter_size_, kernel_size=kernel_size_, activation=activation_type_, padding='same'))\n",
        "  model_.add(tf.keras.layers.BatchNormalization())\n",
        "  model_.add(tf.keras.layers.MaxPooling2D(max_pooling_size_))\n",
        "  model_.add(tf.keras.layers.Dropout(0.2))\n",
        "\n",
        "  model_.add(tf.keras.layers.Conv2D(filters=filter_size_*2, kernel_size=kernel_size_, activation=activation_type_, padding='same'))\n",
        "  model_.add(tf.keras.layers.Conv2D(filters=filter_size_*2, kernel_size=kernel_size_, activation=activation_type_, padding='same'))\n",
        "  model_.add(tf.keras.layers.BatchNormalization())\n",
        "  model_.add(tf.keras.layers.MaxPooling2D(max_pooling_size_))\n",
        "  model_.add(tf.keras.layers.Dropout(0.3))\n",
        "\n",
        "  model_.add(tf.keras.layers.Conv2D(filters=filter_size_*4, kernel_size=kernel_size_, activation=activation_type_, padding='same'))\n",
        "  model_.add(tf.keras.layers.Conv2D(filters=filter_size_*4, kernel_size=kernel_size_, activation=activation_type_, padding='same'))\n",
        "  model_.add(tf.keras.layers.Conv2D(filters=filter_size_*4, kernel_size=kernel_size_, activation=activation_type_, padding='same'))\n",
        "  model_.add(tf.keras.layers.BatchNormalization())\n",
        "  model_.add(tf.keras.layers.MaxPooling2D(max_pooling_size_))\n",
        "  model_.add(tf.keras.layers.Dropout(0.4))\n",
        "\n",
        "  return model_"
      ],
      "execution_count": null,
      "outputs": []
    },
    {
      "cell_type": "code",
      "metadata": {
        "id": "TFa-QO-bNssA",
        "colab_type": "code",
        "colab": {}
      },
      "source": [
        "base_model = conv_block(32, (3, 3), (2, 2), activation_type_='relu', input_shape_=input_shape)"
      ],
      "execution_count": null,
      "outputs": []
    },
    {
      "cell_type": "code",
      "metadata": {
        "id": "tgY5TQPxNs1x",
        "colab_type": "code",
        "colab": {
          "base_uri": "https://localhost:8080/",
          "height": 727
        },
        "outputId": "df887e83-f72e-4b71-a930-edfdbcf7b2d1"
      },
      "source": [
        "base_model.summary()"
      ],
      "execution_count": null,
      "outputs": [
        {
          "output_type": "stream",
          "text": [
            "Model: \"sequential_8\"\n",
            "_________________________________________________________________\n",
            "Layer (type)                 Output Shape              Param #   \n",
            "=================================================================\n",
            "conv2d_17 (Conv2D)           (None, 256, 256, 32)      896       \n",
            "_________________________________________________________________\n",
            "conv2d_18 (Conv2D)           (None, 256, 256, 32)      9248      \n",
            "_________________________________________________________________\n",
            "batch_normalization_8 (Batch (None, 256, 256, 32)      128       \n",
            "_________________________________________________________________\n",
            "max_pooling2d_7 (MaxPooling2 (None, 128, 128, 32)      0         \n",
            "_________________________________________________________________\n",
            "dropout_8 (Dropout)          (None, 128, 128, 32)      0         \n",
            "_________________________________________________________________\n",
            "conv2d_19 (Conv2D)           (None, 128, 128, 64)      18496     \n",
            "_________________________________________________________________\n",
            "conv2d_20 (Conv2D)           (None, 128, 128, 64)      36928     \n",
            "_________________________________________________________________\n",
            "batch_normalization_9 (Batch (None, 128, 128, 64)      256       \n",
            "_________________________________________________________________\n",
            "max_pooling2d_8 (MaxPooling2 (None, 64, 64, 64)        0         \n",
            "_________________________________________________________________\n",
            "dropout_9 (Dropout)          (None, 64, 64, 64)        0         \n",
            "_________________________________________________________________\n",
            "conv2d_21 (Conv2D)           (None, 64, 64, 128)       73856     \n",
            "_________________________________________________________________\n",
            "conv2d_22 (Conv2D)           (None, 64, 64, 128)       147584    \n",
            "_________________________________________________________________\n",
            "conv2d_23 (Conv2D)           (None, 64, 64, 128)       147584    \n",
            "_________________________________________________________________\n",
            "batch_normalization_10 (Batc (None, 64, 64, 128)       512       \n",
            "_________________________________________________________________\n",
            "max_pooling2d_9 (MaxPooling2 (None, 32, 32, 128)       0         \n",
            "_________________________________________________________________\n",
            "dropout_10 (Dropout)         (None, 32, 32, 128)       0         \n",
            "=================================================================\n",
            "Total params: 435,488\n",
            "Trainable params: 435,040\n",
            "Non-trainable params: 448\n",
            "_________________________________________________________________\n"
          ],
          "name": "stdout"
        }
      ]
    },
    {
      "cell_type": "code",
      "metadata": {
        "id": "6wRlbDt0NspK",
        "colab_type": "code",
        "colab": {}
      },
      "source": [
        "top_layers = tf.keras.Sequential()\n",
        "top_layers.add(tf.keras.layers.Flatten())\n",
        "top_layers.add(tf.keras.layers.Dense(1024, activation='relu'))\n",
        "top_layers.add(tf.keras.layers.Dense(512, activation='relu'))\n",
        "top_layers.add(tf.keras.layers.Dense(128, activation='relu'))\n",
        "top_layers.add(tf.keras.layers.Dense(32, activation='relu'))\n",
        "top_layers.add(tf.keras.layers.Dense(category_size,activation='softmax'))\n",
        "\n",
        "model= tf.keras.Sequential([base_model, top_layers])"
      ],
      "execution_count": null,
      "outputs": []
    },
    {
      "cell_type": "code",
      "metadata": {
        "id": "L2SBmCPdNsmU",
        "colab_type": "code",
        "colab": {}
      },
      "source": [
        "#### Compile your model (use SGD optimizer and choose a relevant loss and metric)\n",
        "opt = tf.keras.optimizers.SGD(lr=0.0005, momentum=0.9)\n",
        "model.compile(optimizer=opt, loss='categorical_crossentropy', metrics=['accuracy'])\n",
        "augment_data=True\n",
        "if augment_data:\n",
        "  datagen = tf.keras.preprocessing.image.ImageDataGenerator(width_shift_range=0.1, height_shift_range=0.1, horizontal_flip=True)\n",
        "  it_train = datagen.flow(train_images, train_labels_encoded, batch_size=64)"
      ],
      "execution_count": null,
      "outputs": []
    },
    {
      "cell_type": "code",
      "metadata": {
        "id": "U3LesaJoObLN",
        "colab_type": "code",
        "colab": {
          "base_uri": "https://localhost:8080/",
          "height": 1000
        },
        "outputId": "6512f07a-a932-4392-c715-8b3eaf922be5"
      },
      "source": [
        "#### Fit your model (you can use the test set as your validation data)\n",
        "epochs = 100\n",
        "if augment_data:\n",
        "  print(\"Training with Augmented Data\")\n",
        "  steps = int(train_images.shape[0] / 64)\n",
        "  history = model.fit(it_train, steps_per_epoch=steps, epochs=epochs, validation_data=(test_images, test_labels_encoded), verbose=1)\n",
        "else: \n",
        "  print(\"Training withOUT Augmented Data\")\n",
        "  history = model.fit(train_images, train_labels_encoded, epochs=epochs, batch_size=64, \n",
        "                    validation_data=(test_images, test_labels_encoded))"
      ],
      "execution_count": null,
      "outputs": [
        {
          "output_type": "stream",
          "text": [
            "Training with Augmented Data\n",
            "Epoch 1/100\n",
            "16/16 [==============================] - 14s 871ms/step - loss: 0.6763 - accuracy: 0.5804 - val_loss: 0.9028 - val_accuracy: 0.5115\n",
            "Epoch 2/100\n",
            "16/16 [==============================] - 14s 855ms/step - loss: 0.6496 - accuracy: 0.6191 - val_loss: 1.0362 - val_accuracy: 0.5115\n",
            "Epoch 3/100\n",
            "16/16 [==============================] - 15s 911ms/step - loss: 0.6486 - accuracy: 0.6324 - val_loss: 1.1281 - val_accuracy: 0.5115\n",
            "Epoch 4/100\n",
            "16/16 [==============================] - 14s 854ms/step - loss: 0.6261 - accuracy: 0.6650 - val_loss: 1.2428 - val_accuracy: 0.5115\n",
            "Epoch 5/100\n",
            "16/16 [==============================] - 14s 858ms/step - loss: 0.6031 - accuracy: 0.6894 - val_loss: 1.3937 - val_accuracy: 0.5115\n",
            "Epoch 6/100\n",
            "16/16 [==============================] - 14s 860ms/step - loss: 0.6057 - accuracy: 0.6853 - val_loss: 1.6058 - val_accuracy: 0.5115\n",
            "Epoch 7/100\n",
            "16/16 [==============================] - 14s 855ms/step - loss: 0.5822 - accuracy: 0.6976 - val_loss: 1.6253 - val_accuracy: 0.5115\n",
            "Epoch 8/100\n",
            "16/16 [==============================] - 14s 856ms/step - loss: 0.5514 - accuracy: 0.7291 - val_loss: 1.6720 - val_accuracy: 0.5115\n",
            "Epoch 9/100\n",
            "16/16 [==============================] - 14s 855ms/step - loss: 0.5688 - accuracy: 0.7047 - val_loss: 1.7714 - val_accuracy: 0.5115\n",
            "Epoch 10/100\n",
            "16/16 [==============================] - 14s 859ms/step - loss: 0.5783 - accuracy: 0.6945 - val_loss: 1.8324 - val_accuracy: 0.5115\n",
            "Epoch 11/100\n",
            "16/16 [==============================] - 14s 852ms/step - loss: 0.5779 - accuracy: 0.6853 - val_loss: 1.8854 - val_accuracy: 0.5115\n",
            "Epoch 12/100\n",
            "16/16 [==============================] - 14s 855ms/step - loss: 0.5548 - accuracy: 0.7159 - val_loss: 2.2461 - val_accuracy: 0.5115\n",
            "Epoch 13/100\n",
            "16/16 [==============================] - 14s 855ms/step - loss: 0.5376 - accuracy: 0.7332 - val_loss: 2.4881 - val_accuracy: 0.5115\n",
            "Epoch 14/100\n",
            "16/16 [==============================] - 14s 900ms/step - loss: 0.5308 - accuracy: 0.7332 - val_loss: 2.4489 - val_accuracy: 0.5115\n",
            "Epoch 15/100\n",
            "16/16 [==============================] - 14s 856ms/step - loss: 0.5185 - accuracy: 0.7383 - val_loss: 2.2439 - val_accuracy: 0.5115\n",
            "Epoch 16/100\n",
            "16/16 [==============================] - 14s 858ms/step - loss: 0.5296 - accuracy: 0.7322 - val_loss: 2.4574 - val_accuracy: 0.5115\n",
            "Epoch 17/100\n",
            "16/16 [==============================] - 14s 904ms/step - loss: 0.5069 - accuracy: 0.7495 - val_loss: 2.3395 - val_accuracy: 0.5115\n",
            "Epoch 18/100\n",
            "16/16 [==============================] - 14s 852ms/step - loss: 0.5167 - accuracy: 0.7424 - val_loss: 2.2334 - val_accuracy: 0.5115\n",
            "Epoch 19/100\n",
            "16/16 [==============================] - 14s 852ms/step - loss: 0.4779 - accuracy: 0.7678 - val_loss: 2.2834 - val_accuracy: 0.5115\n",
            "Epoch 20/100\n",
            "16/16 [==============================] - 14s 853ms/step - loss: 0.4765 - accuracy: 0.7790 - val_loss: 2.3169 - val_accuracy: 0.5115\n",
            "Epoch 21/100\n",
            "16/16 [==============================] - 14s 890ms/step - loss: 0.4508 - accuracy: 0.7969 - val_loss: 2.3926 - val_accuracy: 0.5115\n",
            "Epoch 22/100\n",
            "16/16 [==============================] - 14s 855ms/step - loss: 0.4479 - accuracy: 0.7892 - val_loss: 2.4601 - val_accuracy: 0.5115\n",
            "Epoch 23/100\n",
            "16/16 [==============================] - 14s 855ms/step - loss: 0.4532 - accuracy: 0.7678 - val_loss: 2.4217 - val_accuracy: 0.5115\n",
            "Epoch 24/100\n",
            "16/16 [==============================] - 14s 858ms/step - loss: 0.4814 - accuracy: 0.7576 - val_loss: 2.0728 - val_accuracy: 0.5115\n",
            "Epoch 25/100\n",
            "16/16 [==============================] - 14s 854ms/step - loss: 0.4524 - accuracy: 0.7841 - val_loss: 2.3784 - val_accuracy: 0.5115\n",
            "Epoch 26/100\n",
            "16/16 [==============================] - 15s 908ms/step - loss: 0.4356 - accuracy: 0.7923 - val_loss: 2.0032 - val_accuracy: 0.5115\n",
            "Epoch 27/100\n",
            "16/16 [==============================] - 14s 854ms/step - loss: 0.4384 - accuracy: 0.7831 - val_loss: 1.8391 - val_accuracy: 0.5115\n",
            "Epoch 28/100\n",
            "16/16 [==============================] - 14s 855ms/step - loss: 0.4384 - accuracy: 0.7963 - val_loss: 1.6040 - val_accuracy: 0.5115\n",
            "Epoch 29/100\n",
            "16/16 [==============================] - 14s 853ms/step - loss: 0.4181 - accuracy: 0.7912 - val_loss: 1.5700 - val_accuracy: 0.5153\n",
            "Epoch 30/100\n",
            "16/16 [==============================] - 14s 854ms/step - loss: 0.4255 - accuracy: 0.8055 - val_loss: 1.0519 - val_accuracy: 0.5611\n",
            "Epoch 31/100\n",
            "16/16 [==============================] - 14s 861ms/step - loss: 0.4286 - accuracy: 0.7984 - val_loss: 1.0295 - val_accuracy: 0.5725\n",
            "Epoch 32/100\n",
            "16/16 [==============================] - 14s 853ms/step - loss: 0.4020 - accuracy: 0.8228 - val_loss: 1.4864 - val_accuracy: 0.5305\n",
            "Epoch 33/100\n",
            "16/16 [==============================] - 14s 850ms/step - loss: 0.4039 - accuracy: 0.8106 - val_loss: 1.2193 - val_accuracy: 0.5534\n",
            "Epoch 34/100\n",
            "16/16 [==============================] - 14s 849ms/step - loss: 0.3833 - accuracy: 0.8320 - val_loss: 1.6028 - val_accuracy: 0.5305\n",
            "Epoch 35/100\n",
            "16/16 [==============================] - 14s 852ms/step - loss: 0.3948 - accuracy: 0.8259 - val_loss: 1.9342 - val_accuracy: 0.5153\n",
            "Epoch 36/100\n",
            "16/16 [==============================] - 14s 857ms/step - loss: 0.3819 - accuracy: 0.8269 - val_loss: 0.8041 - val_accuracy: 0.6336\n",
            "Epoch 37/100\n",
            "16/16 [==============================] - 14s 857ms/step - loss: 0.3659 - accuracy: 0.8330 - val_loss: 0.7226 - val_accuracy: 0.6870\n",
            "Epoch 38/100\n",
            "16/16 [==============================] - 14s 853ms/step - loss: 0.3690 - accuracy: 0.8320 - val_loss: 1.1107 - val_accuracy: 0.5878\n",
            "Epoch 39/100\n",
            "16/16 [==============================] - 14s 899ms/step - loss: 0.3587 - accuracy: 0.8340 - val_loss: 1.5258 - val_accuracy: 0.5458\n",
            "Epoch 40/100\n",
            "16/16 [==============================] - 14s 854ms/step - loss: 0.3634 - accuracy: 0.8442 - val_loss: 0.8471 - val_accuracy: 0.6336\n",
            "Epoch 41/100\n",
            "16/16 [==============================] - 14s 851ms/step - loss: 0.3373 - accuracy: 0.8523 - val_loss: 1.3156 - val_accuracy: 0.5649\n",
            "Epoch 42/100\n",
            "16/16 [==============================] - 14s 858ms/step - loss: 0.3445 - accuracy: 0.8391 - val_loss: 1.2703 - val_accuracy: 0.5611\n",
            "Epoch 43/100\n",
            "16/16 [==============================] - 14s 854ms/step - loss: 0.3357 - accuracy: 0.8503 - val_loss: 1.2227 - val_accuracy: 0.5916\n",
            "Epoch 44/100\n",
            "16/16 [==============================] - 14s 860ms/step - loss: 0.3238 - accuracy: 0.8442 - val_loss: 1.1938 - val_accuracy: 0.5763\n",
            "Epoch 45/100\n",
            "16/16 [==============================] - 14s 853ms/step - loss: 0.3223 - accuracy: 0.8727 - val_loss: 1.3975 - val_accuracy: 0.5725\n",
            "Epoch 46/100\n",
            "16/16 [==============================] - 14s 853ms/step - loss: 0.3043 - accuracy: 0.8676 - val_loss: 1.1383 - val_accuracy: 0.5878\n",
            "Epoch 47/100\n",
            "16/16 [==============================] - 14s 849ms/step - loss: 0.2963 - accuracy: 0.8707 - val_loss: 2.3086 - val_accuracy: 0.5611\n",
            "Epoch 48/100\n",
            "16/16 [==============================] - 14s 854ms/step - loss: 0.3177 - accuracy: 0.8544 - val_loss: 1.0441 - val_accuracy: 0.6260\n",
            "Epoch 49/100\n",
            "16/16 [==============================] - 14s 856ms/step - loss: 0.2859 - accuracy: 0.8737 - val_loss: 1.1549 - val_accuracy: 0.6069\n",
            "Epoch 50/100\n",
            "16/16 [==============================] - 14s 895ms/step - loss: 0.3071 - accuracy: 0.8585 - val_loss: 1.2049 - val_accuracy: 0.6145\n",
            "Epoch 51/100\n",
            "16/16 [==============================] - 14s 857ms/step - loss: 0.3000 - accuracy: 0.8656 - val_loss: 1.3320 - val_accuracy: 0.5916\n",
            "Epoch 52/100\n",
            "16/16 [==============================] - 14s 846ms/step - loss: 0.2920 - accuracy: 0.8625 - val_loss: 1.8218 - val_accuracy: 0.5763\n",
            "Epoch 53/100\n",
            "16/16 [==============================] - 14s 860ms/step - loss: 0.2838 - accuracy: 0.8707 - val_loss: 0.9728 - val_accuracy: 0.6374\n",
            "Epoch 54/100\n",
            "16/16 [==============================] - 14s 853ms/step - loss: 0.3023 - accuracy: 0.8635 - val_loss: 0.8472 - val_accuracy: 0.7176\n",
            "Epoch 55/100\n",
            "16/16 [==============================] - 14s 853ms/step - loss: 0.3054 - accuracy: 0.8554 - val_loss: 0.8171 - val_accuracy: 0.7061\n",
            "Epoch 56/100\n",
            "16/16 [==============================] - 14s 854ms/step - loss: 0.2793 - accuracy: 0.8666 - val_loss: 1.5314 - val_accuracy: 0.6031\n",
            "Epoch 57/100\n",
            "16/16 [==============================] - 14s 850ms/step - loss: 0.2579 - accuracy: 0.8819 - val_loss: 1.4423 - val_accuracy: 0.6145\n",
            "Epoch 58/100\n",
            "16/16 [==============================] - 14s 857ms/step - loss: 0.2329 - accuracy: 0.9033 - val_loss: 0.7667 - val_accuracy: 0.7023\n",
            "Epoch 59/100\n",
            "16/16 [==============================] - 14s 851ms/step - loss: 0.2258 - accuracy: 0.9053 - val_loss: 1.3663 - val_accuracy: 0.6183\n",
            "Epoch 60/100\n",
            "16/16 [==============================] - 14s 886ms/step - loss: 0.2317 - accuracy: 0.8994 - val_loss: 1.5468 - val_accuracy: 0.6221\n",
            "Epoch 61/100\n",
            "16/16 [==============================] - 14s 849ms/step - loss: 0.2250 - accuracy: 0.9114 - val_loss: 1.4835 - val_accuracy: 0.6336\n",
            "Epoch 62/100\n",
            "16/16 [==============================] - 14s 853ms/step - loss: 0.2342 - accuracy: 0.9134 - val_loss: 0.7975 - val_accuracy: 0.6908\n",
            "Epoch 63/100\n",
            "16/16 [==============================] - 14s 889ms/step - loss: 0.2495 - accuracy: 0.9014 - val_loss: 1.7082 - val_accuracy: 0.5840\n",
            "Epoch 64/100\n",
            "16/16 [==============================] - 14s 849ms/step - loss: 0.2027 - accuracy: 0.9175 - val_loss: 0.9409 - val_accuracy: 0.6832\n",
            "Epoch 65/100\n",
            "16/16 [==============================] - 14s 860ms/step - loss: 0.2155 - accuracy: 0.9155 - val_loss: 1.1643 - val_accuracy: 0.6641\n",
            "Epoch 66/100\n",
            "16/16 [==============================] - 14s 846ms/step - loss: 0.2230 - accuracy: 0.9145 - val_loss: 1.7554 - val_accuracy: 0.6260\n",
            "Epoch 67/100\n",
            "16/16 [==============================] - 14s 856ms/step - loss: 0.2018 - accuracy: 0.9257 - val_loss: 1.5238 - val_accuracy: 0.6336\n",
            "Epoch 68/100\n",
            "16/16 [==============================] - 14s 852ms/step - loss: 0.1704 - accuracy: 0.9389 - val_loss: 0.8148 - val_accuracy: 0.7137\n",
            "Epoch 69/100\n",
            "16/16 [==============================] - 14s 854ms/step - loss: 0.1809 - accuracy: 0.9369 - val_loss: 0.8118 - val_accuracy: 0.7366\n",
            "Epoch 70/100\n",
            "16/16 [==============================] - 14s 849ms/step - loss: 0.2029 - accuracy: 0.9267 - val_loss: 1.6961 - val_accuracy: 0.6183\n",
            "Epoch 71/100\n",
            "16/16 [==============================] - 14s 852ms/step - loss: 0.1878 - accuracy: 0.9277 - val_loss: 0.8379 - val_accuracy: 0.6756\n",
            "Epoch 72/100\n",
            "16/16 [==============================] - 14s 852ms/step - loss: 0.1624 - accuracy: 0.9379 - val_loss: 3.5354 - val_accuracy: 0.5687\n",
            "Epoch 73/100\n",
            "16/16 [==============================] - 14s 847ms/step - loss: 0.1779 - accuracy: 0.9318 - val_loss: 1.3651 - val_accuracy: 0.6718\n",
            "Epoch 74/100\n",
            "16/16 [==============================] - 14s 860ms/step - loss: 0.1666 - accuracy: 0.9358 - val_loss: 0.8369 - val_accuracy: 0.7137\n",
            "Epoch 75/100\n",
            "16/16 [==============================] - 14s 852ms/step - loss: 0.1986 - accuracy: 0.9155 - val_loss: 1.0907 - val_accuracy: 0.6641\n",
            "Epoch 76/100\n",
            "16/16 [==============================] - 14s 852ms/step - loss: 0.1778 - accuracy: 0.9206 - val_loss: 1.2752 - val_accuracy: 0.6603\n",
            "Epoch 77/100\n",
            "16/16 [==============================] - 14s 853ms/step - loss: 0.1635 - accuracy: 0.9369 - val_loss: 1.2739 - val_accuracy: 0.6145\n",
            "Epoch 78/100\n",
            "16/16 [==============================] - 14s 852ms/step - loss: 0.1662 - accuracy: 0.9369 - val_loss: 1.2392 - val_accuracy: 0.6260\n",
            "Epoch 79/100\n",
            "16/16 [==============================] - 14s 849ms/step - loss: 0.1584 - accuracy: 0.9460 - val_loss: 3.1000 - val_accuracy: 0.5573\n",
            "Epoch 80/100\n",
            "16/16 [==============================] - 14s 886ms/step - loss: 0.1552 - accuracy: 0.9453 - val_loss: 1.4720 - val_accuracy: 0.6603\n",
            "Epoch 81/100\n",
            "16/16 [==============================] - 14s 848ms/step - loss: 0.1334 - accuracy: 0.9521 - val_loss: 0.9188 - val_accuracy: 0.7405\n",
            "Epoch 82/100\n",
            "16/16 [==============================] - 14s 856ms/step - loss: 0.1134 - accuracy: 0.9603 - val_loss: 0.8429 - val_accuracy: 0.7214\n",
            "Epoch 83/100\n",
            "16/16 [==============================] - 14s 854ms/step - loss: 0.1208 - accuracy: 0.9552 - val_loss: 1.2569 - val_accuracy: 0.7176\n",
            "Epoch 84/100\n",
            "16/16 [==============================] - 14s 852ms/step - loss: 0.1296 - accuracy: 0.9481 - val_loss: 1.2924 - val_accuracy: 0.6718\n",
            "Epoch 85/100\n",
            "16/16 [==============================] - 14s 860ms/step - loss: 0.1136 - accuracy: 0.9582 - val_loss: 1.4839 - val_accuracy: 0.6908\n",
            "Epoch 86/100\n",
            "16/16 [==============================] - 14s 858ms/step - loss: 0.1075 - accuracy: 0.9542 - val_loss: 1.4370 - val_accuracy: 0.6870\n",
            "Epoch 87/100\n",
            "16/16 [==============================] - 14s 854ms/step - loss: 0.1122 - accuracy: 0.9664 - val_loss: 1.0428 - val_accuracy: 0.6947\n",
            "Epoch 88/100\n",
            "16/16 [==============================] - 14s 853ms/step - loss: 0.1113 - accuracy: 0.9613 - val_loss: 1.2127 - val_accuracy: 0.6832\n",
            "Epoch 89/100\n",
            "16/16 [==============================] - 14s 849ms/step - loss: 0.1055 - accuracy: 0.9654 - val_loss: 1.1114 - val_accuracy: 0.6947\n",
            "Epoch 90/100\n",
            "16/16 [==============================] - 14s 856ms/step - loss: 0.1219 - accuracy: 0.9501 - val_loss: 0.8850 - val_accuracy: 0.7214\n",
            "Epoch 91/100\n",
            "16/16 [==============================] - 14s 848ms/step - loss: 0.0909 - accuracy: 0.9695 - val_loss: 1.3916 - val_accuracy: 0.6527\n",
            "Epoch 92/100\n",
            "16/16 [==============================] - 14s 852ms/step - loss: 0.0984 - accuracy: 0.9623 - val_loss: 1.1896 - val_accuracy: 0.6718\n",
            "Epoch 93/100\n",
            "16/16 [==============================] - 14s 849ms/step - loss: 0.0911 - accuracy: 0.9674 - val_loss: 1.1004 - val_accuracy: 0.7061\n",
            "Epoch 94/100\n",
            "16/16 [==============================] - 14s 855ms/step - loss: 0.1166 - accuracy: 0.9552 - val_loss: 2.3520 - val_accuracy: 0.6183\n",
            "Epoch 95/100\n",
            "16/16 [==============================] - 14s 859ms/step - loss: 0.1547 - accuracy: 0.9399 - val_loss: 0.9224 - val_accuracy: 0.7405\n",
            "Epoch 96/100\n",
            "16/16 [==============================] - 14s 852ms/step - loss: 0.0995 - accuracy: 0.9695 - val_loss: 1.5464 - val_accuracy: 0.6565\n",
            "Epoch 97/100\n",
            "16/16 [==============================] - 14s 851ms/step - loss: 0.0944 - accuracy: 0.9613 - val_loss: 0.9583 - val_accuracy: 0.7328\n",
            "Epoch 98/100\n",
            "16/16 [==============================] - 14s 857ms/step - loss: 0.0794 - accuracy: 0.9725 - val_loss: 1.0610 - val_accuracy: 0.7099\n",
            "Epoch 99/100\n",
            "16/16 [==============================] - 14s 853ms/step - loss: 0.0952 - accuracy: 0.9715 - val_loss: 0.9052 - val_accuracy: 0.7710\n",
            "Epoch 100/100\n",
            "16/16 [==============================] - 14s 853ms/step - loss: 0.1030 - accuracy: 0.9623 - val_loss: 1.1466 - val_accuracy: 0.7214\n"
          ],
          "name": "stdout"
        }
      ]
    },
    {
      "cell_type": "code",
      "metadata": {
        "id": "1ufVJZeLSv-P",
        "colab_type": "code",
        "colab": {
          "base_uri": "https://localhost:8080/",
          "height": 52
        },
        "outputId": "ea7b617d-6f8e-4462-a92c-290d737c6888"
      },
      "source": [
        "model.evaluate(test_images, test_labels_encoded)"
      ],
      "execution_count": null,
      "outputs": [
        {
          "output_type": "stream",
          "text": [
            "9/9 [==============================] - 0s 46ms/step - loss: 1.1466 - accuracy: 0.7214\n"
          ],
          "name": "stdout"
        },
        {
          "output_type": "execute_result",
          "data": {
            "text/plain": [
              "[1.1466217041015625, 0.7213740348815918]"
            ]
          },
          "metadata": {
            "tags": []
          },
          "execution_count": 52
        }
      ]
    },
    {
      "cell_type": "markdown",
      "metadata": {
        "id": "no8arh5hc_Cp",
        "colab_type": "text"
      },
      "source": [
        "I train the baseline model with data augmentation and without it and i conclued that we get accuracy equal to 0.72 better than the other model. "
      ]
    },
    {
      "cell_type": "markdown",
      "metadata": {
        "id": "PtekSdE7HZL1",
        "colab_type": "text"
      },
      "source": [
        "## second model: VGG19\n",
        "I use the model with transfer learning VGG19 using data augmentation "
      ]
    },
    {
      "cell_type": "code",
      "metadata": {
        "id": "DUOCzbbhZr3G",
        "colab_type": "code",
        "colab": {
          "base_uri": "https://localhost:8080/",
          "height": 52
        },
        "outputId": "534ecff3-b3cb-4ab0-c468-b9ccd9cc6e59"
      },
      "source": [
        "base_model = tf.keras.applications.VGG19(weights = 'imagenet', include_top = False, input_shape=input_shape)\n",
        "base_model.trainable = True"
      ],
      "execution_count": null,
      "outputs": [
        {
          "output_type": "stream",
          "text": [
            "Downloading data from https://storage.googleapis.com/tensorflow/keras-applications/vgg19/vgg19_weights_tf_dim_ordering_tf_kernels_notop.h5\n",
            "80142336/80134624 [==============================] - 2s 0us/step\n"
          ],
          "name": "stdout"
        }
      ]
    },
    {
      "cell_type": "code",
      "metadata": {
        "id": "YZXEjw9ZuDzU",
        "colab_type": "code",
        "colab": {}
      },
      "source": [
        "\n",
        "top_layers = tf.keras.Sequential()\n",
        "top_layers.add(tf.keras.layers.GlobalAveragePooling2D())\n",
        "#top_layers.add(tf.keras.layers.Flatten())\n",
        "top_layers.add(tf.keras.layers.Dense(128, activation='relu'))\n",
        "top_layers.add(tf.keras.layers.BatchNormalization())\n",
        "top_layers.add(tf.keras.layers.Dropout(0.9))\n",
        "top_layers.add(tf.keras.layers.Dense(category_size,activation='softmax'))\n",
        "\n",
        "model= tf.keras.Sequential([base_model, top_layers])"
      ],
      "execution_count": null,
      "outputs": []
    },
    {
      "cell_type": "code",
      "metadata": {
        "id": "i6MDHineuDrc",
        "colab_type": "code",
        "colab": {}
      },
      "source": [
        "opt = tf.keras.optimizers.SGD(lr=0.0005, momentum=0.9)\n",
        "model.compile(optimizer=opt, loss='categorical_crossentropy', metrics=['accuracy'])"
      ],
      "execution_count": null,
      "outputs": []
    },
    {
      "cell_type": "code",
      "metadata": {
        "id": "uyyC__x_Z3vq",
        "colab_type": "code",
        "colab": {}
      },
      "source": [
        "datagen = tf.keras.preprocessing.image.ImageDataGenerator(width_shift_range=0.1, height_shift_range=0.1, horizontal_flip=True)\n",
        "it_train = datagen.flow(train_images, train_labels_encoded, batch_size=64)"
      ],
      "execution_count": null,
      "outputs": []
    },
    {
      "cell_type": "code",
      "metadata": {
        "id": "bA35NB9YZ36s",
        "colab_type": "code",
        "colab": {
          "base_uri": "https://localhost:8080/",
          "height": 1000
        },
        "outputId": "b9c600a6-f038-49d8-e926-33a5fb3c5b2a"
      },
      "source": [
        "#### Fit your model (you can use the test set as your validation data)\n",
        "epochs = 70\n",
        "\n",
        "print(\"Training with Augmented Data\")\n",
        "steps = int(train_images.shape[0] / 64)\n",
        "history = model.fit(it_train, steps_per_epoch=steps, epochs=epochs, validation_data=(test_images, test_labels_encoded), verbose=1)\n"
      ],
      "execution_count": null,
      "outputs": [
        {
          "output_type": "stream",
          "text": [
            "Training with Augmented Data\n",
            "Epoch 1/70\n",
            "16/16 [==============================] - 31s 2s/step - loss: 1.5658 - accuracy: 0.5153 - val_loss: 0.7181 - val_accuracy: 0.5115\n",
            "Epoch 2/70\n",
            "16/16 [==============================] - 21s 1s/step - loss: 1.2034 - accuracy: 0.5550 - val_loss: 0.7397 - val_accuracy: 0.5115\n",
            "Epoch 3/70\n",
            "16/16 [==============================] - 21s 1s/step - loss: 1.0336 - accuracy: 0.5285 - val_loss: 0.7309 - val_accuracy: 0.4885\n",
            "Epoch 4/70\n",
            "16/16 [==============================] - 21s 1s/step - loss: 0.7317 - accuracy: 0.5499 - val_loss: 0.6962 - val_accuracy: 0.5115\n",
            "Epoch 5/70\n",
            "16/16 [==============================] - 21s 1s/step - loss: 0.6519 - accuracy: 0.6242 - val_loss: 0.7051 - val_accuracy: 0.5115\n",
            "Epoch 6/70\n",
            "16/16 [==============================] - 21s 1s/step - loss: 0.6608 - accuracy: 0.6415 - val_loss: 0.6995 - val_accuracy: 0.5115\n",
            "Epoch 7/70\n",
            "16/16 [==============================] - 21s 1s/step - loss: 0.6150 - accuracy: 0.6792 - val_loss: 0.7299 - val_accuracy: 0.5115\n",
            "Epoch 8/70\n",
            "16/16 [==============================] - 21s 1s/step - loss: 0.5908 - accuracy: 0.7057 - val_loss: 0.7034 - val_accuracy: 0.5115\n",
            "Epoch 9/70\n",
            "16/16 [==============================] - 22s 1s/step - loss: 0.5711 - accuracy: 0.7047 - val_loss: 0.6694 - val_accuracy: 0.5115\n",
            "Epoch 10/70\n",
            "16/16 [==============================] - 21s 1s/step - loss: 0.4992 - accuracy: 0.7699 - val_loss: 0.7780 - val_accuracy: 0.5115\n",
            "Epoch 11/70\n",
            "16/16 [==============================] - 21s 1s/step - loss: 0.4511 - accuracy: 0.8004 - val_loss: 0.8411 - val_accuracy: 0.5115\n",
            "Epoch 12/70\n",
            "16/16 [==============================] - 21s 1s/step - loss: 0.4069 - accuracy: 0.8350 - val_loss: 0.5880 - val_accuracy: 0.6794\n",
            "Epoch 13/70\n",
            "16/16 [==============================] - 21s 1s/step - loss: 0.3561 - accuracy: 0.8697 - val_loss: 0.6850 - val_accuracy: 0.5115\n",
            "Epoch 14/70\n",
            "16/16 [==============================] - 22s 1s/step - loss: 0.3587 - accuracy: 0.8623 - val_loss: 0.8533 - val_accuracy: 0.5115\n",
            "Epoch 15/70\n",
            "16/16 [==============================] - 22s 1s/step - loss: 0.3150 - accuracy: 0.8955 - val_loss: 1.1323 - val_accuracy: 0.5115\n",
            "Epoch 16/70\n",
            "16/16 [==============================] - 21s 1s/step - loss: 0.2860 - accuracy: 0.9002 - val_loss: 0.7366 - val_accuracy: 0.5153\n",
            "Epoch 17/70\n",
            "16/16 [==============================] - 21s 1s/step - loss: 0.2462 - accuracy: 0.9084 - val_loss: 1.1946 - val_accuracy: 0.5115\n",
            "Epoch 18/70\n",
            "16/16 [==============================] - 21s 1s/step - loss: 0.2521 - accuracy: 0.9206 - val_loss: 0.6637 - val_accuracy: 0.5534\n",
            "Epoch 19/70\n",
            "16/16 [==============================] - 21s 1s/step - loss: 0.2070 - accuracy: 0.9379 - val_loss: 0.8799 - val_accuracy: 0.5267\n",
            "Epoch 20/70\n",
            "16/16 [==============================] - 21s 1s/step - loss: 0.1926 - accuracy: 0.9328 - val_loss: 1.3695 - val_accuracy: 0.5115\n",
            "Epoch 21/70\n",
            "16/16 [==============================] - 21s 1s/step - loss: 0.1863 - accuracy: 0.9308 - val_loss: 1.3085 - val_accuracy: 0.5115\n",
            "Epoch 22/70\n",
            "16/16 [==============================] - 21s 1s/step - loss: 0.1912 - accuracy: 0.9379 - val_loss: 0.4039 - val_accuracy: 0.7901\n",
            "Epoch 23/70\n",
            "16/16 [==============================] - 21s 1s/step - loss: 0.1670 - accuracy: 0.9430 - val_loss: 0.6651 - val_accuracy: 0.6298\n",
            "Epoch 24/70\n",
            "16/16 [==============================] - 21s 1s/step - loss: 0.1382 - accuracy: 0.9613 - val_loss: 0.3204 - val_accuracy: 0.8473\n",
            "Epoch 25/70\n",
            "16/16 [==============================] - 21s 1s/step - loss: 0.1353 - accuracy: 0.9593 - val_loss: 0.4874 - val_accuracy: 0.7328\n",
            "Epoch 26/70\n",
            "16/16 [==============================] - 21s 1s/step - loss: 0.1289 - accuracy: 0.9603 - val_loss: 0.2728 - val_accuracy: 0.8779\n",
            "Epoch 27/70\n",
            "16/16 [==============================] - 21s 1s/step - loss: 0.1355 - accuracy: 0.9521 - val_loss: 0.2623 - val_accuracy: 0.8855\n",
            "Epoch 28/70\n",
            "16/16 [==============================] - 21s 1s/step - loss: 0.1655 - accuracy: 0.9481 - val_loss: 0.7989 - val_accuracy: 0.6870\n",
            "Epoch 29/70\n",
            "16/16 [==============================] - 22s 1s/step - loss: 0.2176 - accuracy: 0.9196 - val_loss: 4.3226 - val_accuracy: 0.5115\n",
            "Epoch 30/70\n",
            "16/16 [==============================] - 22s 1s/step - loss: 0.1348 - accuracy: 0.9542 - val_loss: 0.5510 - val_accuracy: 0.7863\n",
            "Epoch 31/70\n",
            "16/16 [==============================] - 21s 1s/step - loss: 0.1330 - accuracy: 0.9562 - val_loss: 0.2631 - val_accuracy: 0.8664\n",
            "Epoch 32/70\n",
            "16/16 [==============================] - 21s 1s/step - loss: 0.1025 - accuracy: 0.9684 - val_loss: 0.1221 - val_accuracy: 0.9542\n",
            "Epoch 33/70\n",
            "16/16 [==============================] - 21s 1s/step - loss: 0.0814 - accuracy: 0.9827 - val_loss: 0.1203 - val_accuracy: 0.9504\n",
            "Epoch 34/70\n",
            "16/16 [==============================] - 22s 1s/step - loss: 0.0843 - accuracy: 0.9766 - val_loss: 0.1496 - val_accuracy: 0.9351\n",
            "Epoch 35/70\n",
            "16/16 [==============================] - 21s 1s/step - loss: 0.0711 - accuracy: 0.9857 - val_loss: 0.1325 - val_accuracy: 0.9427\n",
            "Epoch 36/70\n",
            "16/16 [==============================] - 21s 1s/step - loss: 0.0787 - accuracy: 0.9776 - val_loss: 0.4772 - val_accuracy: 0.8282\n",
            "Epoch 37/70\n",
            "16/16 [==============================] - 21s 1s/step - loss: 0.0612 - accuracy: 0.9898 - val_loss: 0.1742 - val_accuracy: 0.9237\n",
            "Epoch 38/70\n",
            "16/16 [==============================] - 21s 1s/step - loss: 0.0600 - accuracy: 0.9908 - val_loss: 0.2210 - val_accuracy: 0.9122\n",
            "Epoch 39/70\n",
            "16/16 [==============================] - 22s 1s/step - loss: 0.0550 - accuracy: 0.9888 - val_loss: 0.1317 - val_accuracy: 0.9542\n",
            "Epoch 40/70\n",
            "16/16 [==============================] - 21s 1s/step - loss: 0.0641 - accuracy: 0.9868 - val_loss: 1.1356 - val_accuracy: 0.7099\n",
            "Epoch 41/70\n",
            "16/16 [==============================] - 21s 1s/step - loss: 0.1007 - accuracy: 0.9695 - val_loss: 0.3802 - val_accuracy: 0.8435\n",
            "Epoch 42/70\n",
            "16/16 [==============================] - 21s 1s/step - loss: 0.0859 - accuracy: 0.9766 - val_loss: 0.5138 - val_accuracy: 0.8092\n",
            "Epoch 43/70\n",
            "16/16 [==============================] - 21s 1s/step - loss: 0.0577 - accuracy: 0.9847 - val_loss: 2.0410 - val_accuracy: 0.6069\n",
            "Epoch 44/70\n",
            "16/16 [==============================] - 21s 1s/step - loss: 0.0552 - accuracy: 0.9847 - val_loss: 0.1593 - val_accuracy: 0.9427\n",
            "Epoch 45/70\n",
            "16/16 [==============================] - 21s 1s/step - loss: 0.0561 - accuracy: 0.9878 - val_loss: 0.1802 - val_accuracy: 0.9275\n",
            "Epoch 46/70\n",
            "16/16 [==============================] - 21s 1s/step - loss: 0.0541 - accuracy: 0.9898 - val_loss: 0.1822 - val_accuracy: 0.9389\n",
            "Epoch 47/70\n",
            "16/16 [==============================] - 21s 1s/step - loss: 0.0426 - accuracy: 0.9939 - val_loss: 0.2535 - val_accuracy: 0.9198\n",
            "Epoch 48/70\n",
            "16/16 [==============================] - 22s 1s/step - loss: 0.0466 - accuracy: 0.9919 - val_loss: 0.0979 - val_accuracy: 0.9580\n",
            "Epoch 49/70\n",
            "16/16 [==============================] - 21s 1s/step - loss: 0.0369 - accuracy: 0.9929 - val_loss: 0.1257 - val_accuracy: 0.9466\n",
            "Epoch 50/70\n",
            "16/16 [==============================] - 21s 1s/step - loss: 0.0463 - accuracy: 0.9888 - val_loss: 0.3819 - val_accuracy: 0.8664\n",
            "Epoch 51/70\n",
            "16/16 [==============================] - 21s 1s/step - loss: 0.0430 - accuracy: 0.9898 - val_loss: 0.1894 - val_accuracy: 0.9389\n",
            "Epoch 52/70\n",
            "16/16 [==============================] - 21s 1s/step - loss: 0.0328 - accuracy: 0.9990 - val_loss: 0.1543 - val_accuracy: 0.9504\n",
            "Epoch 53/70\n",
            "16/16 [==============================] - 21s 1s/step - loss: 0.0322 - accuracy: 0.9980 - val_loss: 0.1136 - val_accuracy: 0.9542\n",
            "Epoch 54/70\n",
            "16/16 [==============================] - 21s 1s/step - loss: 0.0295 - accuracy: 0.9980 - val_loss: 0.1465 - val_accuracy: 0.9427\n",
            "Epoch 55/70\n",
            "16/16 [==============================] - 21s 1s/step - loss: 0.0307 - accuracy: 0.9959 - val_loss: 0.2565 - val_accuracy: 0.9275\n",
            "Epoch 56/70\n",
            "16/16 [==============================] - 22s 1s/step - loss: 0.0429 - accuracy: 0.9888 - val_loss: 0.1364 - val_accuracy: 0.9504\n",
            "Epoch 57/70\n",
            "16/16 [==============================] - 21s 1s/step - loss: 0.0535 - accuracy: 0.9868 - val_loss: 0.2143 - val_accuracy: 0.9160\n",
            "Epoch 58/70\n",
            "16/16 [==============================] - 21s 1s/step - loss: 0.0605 - accuracy: 0.9786 - val_loss: 0.4748 - val_accuracy: 0.8626\n",
            "Epoch 59/70\n",
            "16/16 [==============================] - 21s 1s/step - loss: 0.0463 - accuracy: 0.9878 - val_loss: 0.2560 - val_accuracy: 0.9237\n",
            "Epoch 60/70\n",
            "16/16 [==============================] - 21s 1s/step - loss: 0.0469 - accuracy: 0.9929 - val_loss: 0.2209 - val_accuracy: 0.9122\n",
            "Epoch 61/70\n",
            "16/16 [==============================] - 21s 1s/step - loss: 0.0360 - accuracy: 0.9929 - val_loss: 0.1435 - val_accuracy: 0.9389\n",
            "Epoch 62/70\n",
            "16/16 [==============================] - 21s 1s/step - loss: 0.0324 - accuracy: 0.9949 - val_loss: 0.1878 - val_accuracy: 0.9313\n",
            "Epoch 63/70\n",
            "16/16 [==============================] - 21s 1s/step - loss: 0.0285 - accuracy: 0.9969 - val_loss: 0.2295 - val_accuracy: 0.9160\n",
            "Epoch 64/70\n",
            "16/16 [==============================] - 21s 1s/step - loss: 0.0221 - accuracy: 0.9969 - val_loss: 0.1575 - val_accuracy: 0.9389\n",
            "Epoch 65/70\n",
            "16/16 [==============================] - 21s 1s/step - loss: 0.0233 - accuracy: 0.9980 - val_loss: 0.2093 - val_accuracy: 0.9313\n",
            "Epoch 66/70\n",
            "16/16 [==============================] - 21s 1s/step - loss: 0.0308 - accuracy: 0.9949 - val_loss: 0.5217 - val_accuracy: 0.8550\n",
            "Epoch 67/70\n",
            "16/16 [==============================] - 21s 1s/step - loss: 0.0198 - accuracy: 0.9990 - val_loss: 0.1741 - val_accuracy: 0.9313\n",
            "Epoch 68/70\n",
            "16/16 [==============================] - 21s 1s/step - loss: 0.0218 - accuracy: 0.9969 - val_loss: 0.2443 - val_accuracy: 0.9122\n",
            "Epoch 69/70\n",
            "16/16 [==============================] - 21s 1s/step - loss: 0.0182 - accuracy: 1.0000 - val_loss: 0.1429 - val_accuracy: 0.9580\n",
            "Epoch 70/70\n",
            "16/16 [==============================] - 21s 1s/step - loss: 0.0189 - accuracy: 1.0000 - val_loss: 0.2839 - val_accuracy: 0.9046\n"
          ],
          "name": "stdout"
        }
      ]
    },
    {
      "cell_type": "code",
      "metadata": {
        "id": "1Z9DQun6bhnA",
        "colab_type": "code",
        "colab": {
          "base_uri": "https://localhost:8080/",
          "height": 52
        },
        "outputId": "49412b4f-060a-47d9-bd18-6b0a2427dc39"
      },
      "source": [
        "model.evaluate(test_images, test_labels_encoded)"
      ],
      "execution_count": null,
      "outputs": [
        {
          "output_type": "stream",
          "text": [
            "9/9 [==============================] - 2s 184ms/step - loss: 0.2839 - accuracy: 0.9046\n"
          ],
          "name": "stdout"
        },
        {
          "output_type": "execute_result",
          "data": {
            "text/plain": [
              "[0.2839047610759735, 0.9045801758766174]"
            ]
          },
          "metadata": {
            "tags": []
          },
          "execution_count": 23
        }
      ]
    },
    {
      "cell_type": "code",
      "metadata": {
        "id": "yGhQAIVXpVJv",
        "colab_type": "code",
        "colab": {
          "base_uri": "https://localhost:8080/",
          "height": 498
        },
        "outputId": "8f767a44-9358-4553-df1f-7c05a292ab3f"
      },
      "source": [
        "accuracy_lost_curves(history)"
      ],
      "execution_count": null,
      "outputs": [
        {
          "output_type": "display_data",
          "data": {
            "image/png": "[encoded data removed]",
            "text/plain": [
              "<Figure size 576x576 with 2 Axes>"
            ]
          },
          "metadata": {
            "tags": [],
            "needs_background": "light"
          }
        }
      ]
    },
    {
      "cell_type": "markdown",
      "metadata": {
        "id": "enl5bCcLhclC",
        "colab_type": "text"
      },
      "source": [
        "##Conclusion\n",
        "\n",
        "For the VGG we got a  0.9046 it's better than the baseline model but we can obtain a good model than this one.\n",
        "\n",
        "I create also the model EfficientNet-B1 with the framework Fastai (the notebook2) and i got an accuracy more better."
      ]
    },
    {
      "cell_type": "code",
      "metadata": {
        "id": "8HpLT2ekZ35c",
        "colab_type": "code",
        "colab": {}
      },
      "source": [
        ""
      ],
      "execution_count": null,
      "outputs": []
    }
  ]
}